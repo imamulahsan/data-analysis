{
 "cells": [
  {
   "cell_type": "markdown",
   "id": "95fd2264",
   "metadata": {},
   "source": [
    "# Car Price Prediction of Germany from Autoscout24\n",
    "AutoScout24 is one of the largest Europe's car market for new and used cars. We've collected car data from 2011 to 2021. It shows basic fields like make, model, mileage, horse power, etc. Link for the dataset https://www.kaggle.com/datasets/ander289386/cars-germany"
   ]
  },
  {
   "cell_type": "markdown",
   "id": "c1fcda41",
   "metadata": {},
   "source": [
    "### 1 Import of Data and Required Packages\n",
    "Importing Pandas, Numpy, Matplotlib, Seaborn and Warings Library."
   ]
  },
  {
   "cell_type": "code",
   "execution_count": 20,
   "id": "12724ae8",
   "metadata": {},
   "outputs": [],
   "source": [
    "import numpy as np\n",
    "import pandas as pd\n",
    "import seaborn as sns\n",
    "import matplotlib.pyplot as plt\n",
    "%matplotlib inline\n",
    "import warnings\n",
    "warnings.filterwarnings('ignore')"
   ]
  },
  {
   "cell_type": "markdown",
   "id": "c2c5954c",
   "metadata": {},
   "source": [
    "Import the CSV Data as Pandas DataFrame"
   ]
  },
  {
   "cell_type": "code",
   "execution_count": 21,
   "id": "990e6ff2",
   "metadata": {},
   "outputs": [
    {
     "data": {
      "text/html": [
       "<div>\n",
       "<style scoped>\n",
       "    .dataframe tbody tr th:only-of-type {\n",
       "        vertical-align: middle;\n",
       "    }\n",
       "\n",
       "    .dataframe tbody tr th {\n",
       "        vertical-align: top;\n",
       "    }\n",
       "\n",
       "    .dataframe thead th {\n",
       "        text-align: right;\n",
       "    }\n",
       "</style>\n",
       "<table border=\"1\" class=\"dataframe\">\n",
       "  <thead>\n",
       "    <tr style=\"text-align: right;\">\n",
       "      <th></th>\n",
       "      <th>mileage</th>\n",
       "      <th>make</th>\n",
       "      <th>model</th>\n",
       "      <th>fuel</th>\n",
       "      <th>gear</th>\n",
       "      <th>offerType</th>\n",
       "      <th>price</th>\n",
       "      <th>hp</th>\n",
       "      <th>year</th>\n",
       "    </tr>\n",
       "  </thead>\n",
       "  <tbody>\n",
       "    <tr>\n",
       "      <th>0</th>\n",
       "      <td>235000</td>\n",
       "      <td>BMW</td>\n",
       "      <td>316</td>\n",
       "      <td>Diesel</td>\n",
       "      <td>Manual</td>\n",
       "      <td>Used</td>\n",
       "      <td>6800</td>\n",
       "      <td>116.0</td>\n",
       "      <td>2011</td>\n",
       "    </tr>\n",
       "    <tr>\n",
       "      <th>1</th>\n",
       "      <td>92800</td>\n",
       "      <td>Volkswagen</td>\n",
       "      <td>Golf</td>\n",
       "      <td>Gasoline</td>\n",
       "      <td>Manual</td>\n",
       "      <td>Used</td>\n",
       "      <td>6877</td>\n",
       "      <td>122.0</td>\n",
       "      <td>2011</td>\n",
       "    </tr>\n",
       "    <tr>\n",
       "      <th>2</th>\n",
       "      <td>149300</td>\n",
       "      <td>SEAT</td>\n",
       "      <td>Exeo</td>\n",
       "      <td>Gasoline</td>\n",
       "      <td>Manual</td>\n",
       "      <td>Used</td>\n",
       "      <td>6900</td>\n",
       "      <td>160.0</td>\n",
       "      <td>2011</td>\n",
       "    </tr>\n",
       "    <tr>\n",
       "      <th>3</th>\n",
       "      <td>96200</td>\n",
       "      <td>Renault</td>\n",
       "      <td>Megane</td>\n",
       "      <td>Gasoline</td>\n",
       "      <td>Manual</td>\n",
       "      <td>Used</td>\n",
       "      <td>6950</td>\n",
       "      <td>110.0</td>\n",
       "      <td>2011</td>\n",
       "    </tr>\n",
       "    <tr>\n",
       "      <th>4</th>\n",
       "      <td>156000</td>\n",
       "      <td>Peugeot</td>\n",
       "      <td>308</td>\n",
       "      <td>Gasoline</td>\n",
       "      <td>Manual</td>\n",
       "      <td>Used</td>\n",
       "      <td>6950</td>\n",
       "      <td>156.0</td>\n",
       "      <td>2011</td>\n",
       "    </tr>\n",
       "  </tbody>\n",
       "</table>\n",
       "</div>"
      ],
      "text/plain": [
       "   mileage        make   model      fuel    gear offerType  price     hp  year\n",
       "0   235000         BMW     316    Diesel  Manual      Used   6800  116.0  2011\n",
       "1    92800  Volkswagen    Golf  Gasoline  Manual      Used   6877  122.0  2011\n",
       "2   149300        SEAT    Exeo  Gasoline  Manual      Used   6900  160.0  2011\n",
       "3    96200     Renault  Megane  Gasoline  Manual      Used   6950  110.0  2011\n",
       "4   156000     Peugeot     308  Gasoline  Manual      Used   6950  156.0  2011"
      ]
     },
     "execution_count": 21,
     "metadata": {},
     "output_type": "execute_result"
    }
   ],
   "source": [
    "df = pd.read_csv('data/autoscout24-germany-dataset.csv')\n",
    "df.head()"
   ]
  },
  {
   "cell_type": "code",
   "execution_count": 22,
   "id": "2d2f854e",
   "metadata": {},
   "outputs": [
    {
     "name": "stdout",
     "output_type": "stream",
     "text": [
      "<class 'pandas.core.frame.DataFrame'>\n",
      "RangeIndex: 46405 entries, 0 to 46404\n",
      "Data columns (total 9 columns):\n",
      " #   Column     Non-Null Count  Dtype  \n",
      "---  ------     --------------  -----  \n",
      " 0   mileage    46405 non-null  int64  \n",
      " 1   make       46405 non-null  object \n",
      " 2   model      46262 non-null  object \n",
      " 3   fuel       46405 non-null  object \n",
      " 4   gear       46223 non-null  object \n",
      " 5   offerType  46405 non-null  object \n",
      " 6   price      46405 non-null  int64  \n",
      " 7   hp         46376 non-null  float64\n",
      " 8   year       46405 non-null  int64  \n",
      "dtypes: float64(1), int64(3), object(5)\n",
      "memory usage: 3.2+ MB\n"
     ]
    }
   ],
   "source": [
    "# Let's find out a bit more about the variables in the dataframe:\n",
    "df.info()"
   ]
  },
  {
   "cell_type": "markdown",
   "id": "73b47282",
   "metadata": {},
   "source": [
    "### 2 Check Missing values"
   ]
  },
  {
   "cell_type": "code",
   "execution_count": 23,
   "id": "9e8269e2",
   "metadata": {},
   "outputs": [
    {
     "data": {
      "text/plain": [
       "mileage        0\n",
       "make           0\n",
       "model        143\n",
       "fuel           0\n",
       "gear         182\n",
       "offerType      0\n",
       "price          0\n",
       "hp            29\n",
       "year           0\n",
       "dtype: int64"
      ]
     },
     "execution_count": 23,
     "metadata": {},
     "output_type": "execute_result"
    }
   ],
   "source": [
    "df.isna().sum()"
   ]
  },
  {
   "cell_type": "markdown",
   "id": "f9eae08d",
   "metadata": {},
   "source": [
    "There are 46405 rows in the dataframe, and 9 variables in total. Of these, 4 are numerical variables (of dtype \"int64\" or \"float64\") and 5 are categorical (of dtype \"object\"). The 'model', 'gear' and 'hp' variables have a few null values, and we shall take care of these by dropping the corresponding rows (we don't expect this to have a big impact since the number of null values is relatively small)."
   ]
  },
  {
   "cell_type": "code",
   "execution_count": 24,
   "id": "95877be7",
   "metadata": {},
   "outputs": [
    {
     "name": "stdout",
     "output_type": "stream",
     "text": [
      "['mileage', 'price', 'hp', 'year']\n"
     ]
    }
   ],
   "source": [
    "# Numerical columns\n",
    "num_cols = list(df._get_numeric_data().columns)\n",
    "print(num_cols)"
   ]
  },
  {
   "cell_type": "code",
   "execution_count": 25,
   "id": "80821d6b",
   "metadata": {},
   "outputs": [
    {
     "name": "stdout",
     "output_type": "stream",
     "text": [
      "{'model', 'fuel', 'make', 'gear', 'offerType'}\n"
     ]
    }
   ],
   "source": [
    "# Categorical columns\n",
    "cat_cols = set(df.columns) - set(num_cols)\n",
    "print(cat_cols)"
   ]
  },
  {
   "cell_type": "markdown",
   "id": "7956f1c9",
   "metadata": {},
   "source": [
    "### 3 Data Cleaning"
   ]
  },
  {
   "cell_type": "markdown",
   "id": "5c6bd1c5",
   "metadata": {},
   "source": [
    "#### Replacing the year variable with the age of the vehicles¶\n",
    "We want to transform the 'year' variable to an 'age' variable representing the age of the car as of now:"
   ]
  },
  {
   "cell_type": "code",
   "execution_count": 26,
   "id": "b3275ad3",
   "metadata": {},
   "outputs": [
    {
     "data": {
      "text/html": [
       "<div>\n",
       "<style scoped>\n",
       "    .dataframe tbody tr th:only-of-type {\n",
       "        vertical-align: middle;\n",
       "    }\n",
       "\n",
       "    .dataframe tbody tr th {\n",
       "        vertical-align: top;\n",
       "    }\n",
       "\n",
       "    .dataframe thead th {\n",
       "        text-align: right;\n",
       "    }\n",
       "</style>\n",
       "<table border=\"1\" class=\"dataframe\">\n",
       "  <thead>\n",
       "    <tr style=\"text-align: right;\">\n",
       "      <th></th>\n",
       "      <th>mileage</th>\n",
       "      <th>make</th>\n",
       "      <th>model</th>\n",
       "      <th>fuel</th>\n",
       "      <th>gear</th>\n",
       "      <th>offerType</th>\n",
       "      <th>price</th>\n",
       "      <th>hp</th>\n",
       "      <th>age</th>\n",
       "    </tr>\n",
       "  </thead>\n",
       "  <tbody>\n",
       "    <tr>\n",
       "      <th>0</th>\n",
       "      <td>235000</td>\n",
       "      <td>BMW</td>\n",
       "      <td>316</td>\n",
       "      <td>Diesel</td>\n",
       "      <td>Manual</td>\n",
       "      <td>Used</td>\n",
       "      <td>6800</td>\n",
       "      <td>116.0</td>\n",
       "      <td>12</td>\n",
       "    </tr>\n",
       "    <tr>\n",
       "      <th>1</th>\n",
       "      <td>92800</td>\n",
       "      <td>Volkswagen</td>\n",
       "      <td>Golf</td>\n",
       "      <td>Gasoline</td>\n",
       "      <td>Manual</td>\n",
       "      <td>Used</td>\n",
       "      <td>6877</td>\n",
       "      <td>122.0</td>\n",
       "      <td>12</td>\n",
       "    </tr>\n",
       "    <tr>\n",
       "      <th>2</th>\n",
       "      <td>149300</td>\n",
       "      <td>SEAT</td>\n",
       "      <td>Exeo</td>\n",
       "      <td>Gasoline</td>\n",
       "      <td>Manual</td>\n",
       "      <td>Used</td>\n",
       "      <td>6900</td>\n",
       "      <td>160.0</td>\n",
       "      <td>12</td>\n",
       "    </tr>\n",
       "    <tr>\n",
       "      <th>3</th>\n",
       "      <td>96200</td>\n",
       "      <td>Renault</td>\n",
       "      <td>Megane</td>\n",
       "      <td>Gasoline</td>\n",
       "      <td>Manual</td>\n",
       "      <td>Used</td>\n",
       "      <td>6950</td>\n",
       "      <td>110.0</td>\n",
       "      <td>12</td>\n",
       "    </tr>\n",
       "    <tr>\n",
       "      <th>4</th>\n",
       "      <td>156000</td>\n",
       "      <td>Peugeot</td>\n",
       "      <td>308</td>\n",
       "      <td>Gasoline</td>\n",
       "      <td>Manual</td>\n",
       "      <td>Used</td>\n",
       "      <td>6950</td>\n",
       "      <td>156.0</td>\n",
       "      <td>12</td>\n",
       "    </tr>\n",
       "  </tbody>\n",
       "</table>\n",
       "</div>"
      ],
      "text/plain": [
       "   mileage        make   model      fuel    gear offerType  price     hp  age\n",
       "0   235000         BMW     316    Diesel  Manual      Used   6800  116.0   12\n",
       "1    92800  Volkswagen    Golf  Gasoline  Manual      Used   6877  122.0   12\n",
       "2   149300        SEAT    Exeo  Gasoline  Manual      Used   6900  160.0   12\n",
       "3    96200     Renault  Megane  Gasoline  Manual      Used   6950  110.0   12\n",
       "4   156000     Peugeot     308  Gasoline  Manual      Used   6950  156.0   12"
      ]
     },
     "execution_count": 26,
     "metadata": {},
     "output_type": "execute_result"
    }
   ],
   "source": [
    "from datetime import datetime\n",
    "\n",
    "# Create a new column: 'age'\n",
    "df['age'] = datetime.now().year - df['year']\n",
    "\n",
    "# Drop the 'year' column\n",
    "df = df.drop('year', axis=1)\n",
    "\n",
    "# Show the top five rows of the cars dataset\n",
    "df.head()"
   ]
  },
  {
   "cell_type": "code",
   "execution_count": 27,
   "id": "bd7d711e",
   "metadata": {},
   "outputs": [
    {
     "data": {
      "text/plain": [
       "mileage      0\n",
       "make         0\n",
       "model        0\n",
       "fuel         0\n",
       "gear         0\n",
       "offerType    0\n",
       "price        0\n",
       "hp           0\n",
       "age          0\n",
       "dtype: int64"
      ]
     },
     "execution_count": 27,
     "metadata": {},
     "output_type": "execute_result"
    }
   ],
   "source": [
    "# Drop the rows with null values\n",
    "df = df.dropna()\n",
    "\n",
    "# Display the total number of null values in the resulting dataframe\n",
    "df.isna().sum()"
   ]
  },
  {
   "cell_type": "code",
   "execution_count": 28,
   "id": "eadf2627",
   "metadata": {},
   "outputs": [
    {
     "name": "stdout",
     "output_type": "stream",
     "text": [
      "<class 'pandas.core.frame.DataFrame'>\n",
      "Index: 43947 entries, 0 to 46399\n",
      "Data columns (total 9 columns):\n",
      " #   Column     Non-Null Count  Dtype  \n",
      "---  ------     --------------  -----  \n",
      " 0   mileage    43947 non-null  int64  \n",
      " 1   make       43947 non-null  object \n",
      " 2   model      43947 non-null  object \n",
      " 3   fuel       43947 non-null  object \n",
      " 4   gear       43947 non-null  object \n",
      " 5   offerType  43947 non-null  object \n",
      " 6   price      43947 non-null  int64  \n",
      " 7   hp         43947 non-null  float64\n",
      " 8   age        43947 non-null  int64  \n",
      "dtypes: float64(1), int64(3), object(5)\n",
      "memory usage: 3.4+ MB\n"
     ]
    }
   ],
   "source": [
    "# It's also a good idea to drop duplicate rows:\n",
    "df = df.drop_duplicates(keep='first')\n",
    "df.info()"
   ]
  },
  {
   "cell_type": "code",
   "execution_count": null,
   "id": "0a5cb784",
   "metadata": {},
   "outputs": [],
   "source": []
  }
 ],
 "metadata": {
  "kernelspec": {
   "display_name": "Python 3 (ipykernel)",
   "language": "python",
   "name": "python3"
  },
  "language_info": {
   "codemirror_mode": {
    "name": "ipython",
    "version": 3
   },
   "file_extension": ".py",
   "mimetype": "text/x-python",
   "name": "python",
   "nbconvert_exporter": "python",
   "pygments_lexer": "ipython3",
   "version": "3.11.3"
  }
 },
 "nbformat": 4,
 "nbformat_minor": 5
}
